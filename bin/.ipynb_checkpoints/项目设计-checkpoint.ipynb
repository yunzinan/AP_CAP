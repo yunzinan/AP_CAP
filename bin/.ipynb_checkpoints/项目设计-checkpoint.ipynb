{
 "cells": [
  {
   "cell_type": "markdown",
   "id": "df70fb95",
   "metadata": {
    "slideshow": {
     "slide_type": "slide"
    }
   },
   "source": [
    "# AP_PROJ1-CAP\n",
    "---\n",
    "a Commodity Auction Platform 一个商品竞拍平台\n",
    "\n",
    "repo: https://github.com/yunzinan/AP_CAP\n",
    "\n",
    "> PS: already finished v1.0 and will add GUI to it."
   ]
  },
  {
   "cell_type": "markdown",
   "id": "5ddf11fe",
   "metadata": {
    "slideshow": {
     "slide_type": "slide"
    }
   },
   "source": [
    "## Module Design\n"
   ]
  },
  {
   "cell_type": "markdown",
   "id": "f3df0a3a",
   "metadata": {
    "slideshow": {
     "slide_type": "subslide"
    }
   },
   "source": [
    "### Overview\n",
    "---\n",
    "![module-design](https://yunzinan-pic-bed.oss-cn-nanjing.aliyuncs.com/2022/09/20220920165302.png)"
   ]
  },
  {
   "cell_type": "markdown",
   "id": "68a7649f",
   "metadata": {},
   "source": [
    "main->loginScene"
   ]
  },
  {
   "cell_type": "markdown",
   "id": "e8898a3f",
   "metadata": {
    "slideshow": {
     "slide_type": "slide"
    }
   },
   "source": [
    "## Data Structure"
   ]
  },
  {
   "cell_type": "markdown",
   "id": "afbb3cd7",
   "metadata": {
    "slideshow": {
     "slide_type": "subslide"
    }
   },
   "source": [
    "- userInfo(with I/O)\n",
    "- commodityInfo(with I/O)\n",
    "- orderInfo(with I/O)\n",
    "\n",
    "dynamically created when `loadInfo`function is called, deleted when `exit` with the object.\n",
    "\n",
    "so that the same `infoList` will be created only once, and accessed indirectly via the _pointer_, which will transfer between classes. \n",
    "\n",
    "---\n",
    "- [ex]auctionInfo(created when `admin` **end the auction**, deleted when finished, _without_ I/O)"
   ]
  },
  {
   "cell_type": "markdown",
   "id": "962ab647",
   "metadata": {
    "slideshow": {
     "slide_type": "subslide"
    }
   },
   "source": [
    "- userInfo \n",
    "\n",
    "```c++\n",
    "//config.h\n",
    "typedef struct userInfo\n",
    "{\n",
    "    std::string userID; // U001\n",
    "    std::string username; // no more than 10\n",
    "    std::string password; // no more than 20\n",
    "    std::string phonenumber; // no more than 40, numbers only\n",
    "    std::string address; // no more than 40,\n",
    "    float balance; // set precision 1\n",
    "    std::string userState; // activate, inactivate\n",
    "}userInfo;\n",
    "\n",
    "```"
   ]
  },
  {
   "cell_type": "markdown",
   "id": "735a5156",
   "metadata": {
    "slideshow": {
     "slide_type": "subslide"
    }
   },
   "source": [
    "- commodityInfo\n",
    "\n",
    "```c++\n",
    "//config.h\n",
    "typedef struct commodityInfo{\n",
    "    std::string commodityID;\n",
    "    std::string sellerID;\n",
    "    std::string commodityName;\n",
    "    std::string description;\n",
    "    std::string addedDate; // yyyy-mm-dd\n",
    "    std::string state; // onAuction, removed\n",
    "    float floorPrice; // 底价\n",
    "    int number;\n",
    "}commodityInfo;\n",
    "\n",
    "```"
   ]
  },
  {
   "cell_type": "markdown",
   "id": "65bf23a1",
   "metadata": {
    "slideshow": {
     "slide_type": "subslide"
    }
   },
   "source": [
    "\n",
    "- orderInfo\n",
    "\n",
    "```c++\n",
    "//config.h\n",
    "typedef struct orderInfo{\n",
    "    std::string orderID;\n",
    "    std::string commodityID;\n",
    "    std::string sellerID;\n",
    "    std::string buyerID;\n",
    "    std::string bidTime; //yyyy-mm-dd-hh-mm-ss\n",
    "    float bidPrice;\n",
    "    std::string state; // succeeded, failed, inProcess, cancelled\n",
    "}orderInfo;\n",
    "```\n"
   ]
  },
  {
   "cell_type": "markdown",
   "id": "b600aeb0",
   "metadata": {
    "slideshow": {
     "slide_type": "subslide"
    }
   },
   "source": [
    "- [extra]auctionInfo\n",
    "\n",
    "a class customized to reorganize the auction data & determine to final results.\n",
    "\n",
    "> EXAMPLE\n",
    "> \n",
    "> commodityID: M001 number: 2 floorPrice: 10.0\n",
    "> - 1 buyerID: U002 bidTime: ... bidPrice: 10.1\n",
    "> - 2 buyerID: U004 bidTime: ... bidPrice: 11.1\n",
    "> - 3 buyerID: U003 bidTime: ... bidPrice: 10.0\n",
    "> - ..."
   ]
  },
  {
   "cell_type": "markdown",
   "id": "174ff856",
   "metadata": {
    "slideshow": {
     "slide_type": "subslide"
    }
   },
   "source": [
    "\n",
    "```c++\n",
    "//MyVector.h\n",
    "typedef struct orderNode{\n",
    "    userInfo * buyer;\n",
    "    orderInfo * order;\n",
    "}orderNode;\n",
    "\n",
    "class MyVector {\n",
    "    commodityInfo * commodity;\n",
    "    userInfo * seller;\n",
    "    int num = 0; //commodity->number\n",
    "    orderNode orderList[USERCAPACITY];\n",
    "    int idx = 0;\n",
    "public:\n",
    "    void ini(commodityInfo *_commodity, userInfo *_seller);\n",
    "    void addNode(orderInfo *_order, userInfo *_buyer);\n",
    "    void swap(int i, int j);//比较两个竞拍者的优先度\n",
    "    void rank();//给出最后的排名\n",
    "    bool timeLess(std::string &time1, std::string &time2);\n",
    "    void update();//确定succeeded和failed 处理后事\n",
    "    bool empty();\n",
    "    void clear();\n",
    "};\n",
    "\n",
    "```"
   ]
  }
 ],
 "metadata": {
  "celltoolbar": "幻灯片",
  "kernelspec": {
   "display_name": "Python 3 (ipykernel)",
   "language": "python",
   "name": "python3"
  },
  "language_info": {
   "codemirror_mode": {
    "name": "ipython",
    "version": 3
   },
   "file_extension": ".py",
   "mimetype": "text/x-python",
   "name": "python",
   "nbconvert_exporter": "python",
   "pygments_lexer": "ipython3",
   "version": "3.9.12"
  },
  "rise": {
   "enable_chalkboard": true
  },
  "vscode": {
   "interpreter": {
    "hash": "08a05e9d7a48b83279e9fe00e047eb650eb11878563c7498b8a38e048082defa"
   }
  }
 },
 "nbformat": 4,
 "nbformat_minor": 5
}
