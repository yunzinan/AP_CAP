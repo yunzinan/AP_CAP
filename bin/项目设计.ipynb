{
 "cells": [
  {
   "cell_type": "markdown",
   "id": "b5d6dcab",
   "metadata": {
    "slideshow": {
     "slide_type": "slide"
    }
   },
   "source": [
    "# AP_PROJ1-CAP\n",
    "---\n",
    "a Commodity Auction Platform 一个商品竞拍平台\n",
    "\n",
    "repo: https://github.com/yunzinan/AP_CAP\n",
    "\n",
    "211850009 欧阳珅\n",
    "\n",
    "> PS: already finished v1.0 and will add GUI to it."
   ]
  },
  {
   "cell_type": "markdown",
   "id": "6f3609b8",
   "metadata": {
    "slideshow": {
     "slide_type": "slide"
    }
   },
   "source": [
    "## Module Design\n"
   ]
  },
  {
   "cell_type": "markdown",
   "id": "d70ee9df",
   "metadata": {
    "slideshow": {
     "slide_type": "subslide"
    }
   },
   "source": [
    "### Overview\n",
    "---\n",
    "![module-design](https://yunzinan-pic-bed.oss-cn-nanjing.aliyuncs.com/2022/09/20220920165302.png)"
   ]
  },
  {
   "cell_type": "markdown",
   "id": "6de55de6",
   "metadata": {
    "slideshow": {
     "slide_type": "subslide"
    }
   },
   "source": [
    "### Module Intro\n",
    "---\n",
    "- main: entry of the program\n",
    "- config: `#define`s\n",
    "- LoginScene: operating interface, the main menu\n",
    "- BuyerCenter, SellerCenter, AccountCenter, AdminCenter: operating interfaces, the secondary menus, interact with the **core**.\n",
    "- AuctionSystem: **core**, processing orders, commodities, etc.\n",
    "- MyVector: customized data structure, dealing with the auctionInfo\n",
    "- UserInfo, CommodityInfo, OrderInfo: datas, `.txt`files"
   ]
  },
  {
   "cell_type": "markdown",
   "id": "89458fbb",
   "metadata": {
    "slideshow": {
     "slide_type": "subslide"
    }
   },
   "source": [
    "- LoginScene \n",
    "\n",
    "![](https://yunzinan-pic-bed.oss-cn-nanjing.aliyuncs.com/2022/09/20220920192945.png)"
   ]
  },
  {
   "cell_type": "markdown",
   "id": "1dc75fb9",
   "metadata": {
    "slideshow": {
     "slide_type": "subslide"
    }
   },
   "source": [
    "- SellerCenter\n",
    "![](https://yunzinan-pic-bed.oss-cn-nanjing.aliyuncs.com/2022/09/20220920193104.png)"
   ]
  },
  {
   "cell_type": "markdown",
   "id": "4f0df7cd",
   "metadata": {
    "slideshow": {
     "slide_type": "subslide"
    }
   },
   "source": [
    "- BuyerCenter\n",
    "<div align=\"center\">\n",
    "<img src=\"https://yunzinan-pic-bed.oss-cn-nanjing.aliyuncs.com/2022/09/20220920193226.png\" style=\"zoom: 33%;\" />\n",
    "</div>"
   ]
  },
  {
   "cell_type": "markdown",
   "id": "91c1e025",
   "metadata": {
    "slideshow": {
     "slide_type": "subslide"
    }
   },
   "source": [
    "- Account Center\n",
    "\n",
    "<div align=\"center\">\n",
    "<img src=\"https://yunzinan-pic-bed.oss-cn-nanjing.aliyuncs.com/2022/09/20220920193411.png\" style=\"zoom:33%;\" />\n",
    "</div>"
   ]
  },
  {
   "cell_type": "markdown",
   "id": "af943db1",
   "metadata": {
    "slideshow": {
     "slide_type": "subslide"
    }
   },
   "source": [
    "- AdminCenter\n",
    "<div align=\"center\">\n",
    "<img src=\"https://yunzinan-pic-bed.oss-cn-nanjing.aliyuncs.com/2022/09/20220920194547.png\" style=\"zoom:33%;\" />\n",
    "</div>"
   ]
  },
  {
   "cell_type": "markdown",
   "id": "c2092c34",
   "metadata": {
    "slideshow": {
     "slide_type": "slide"
    }
   },
   "source": [
    "## Data Structure"
   ]
  },
  {
   "cell_type": "markdown",
   "id": "0bbaa7d5",
   "metadata": {
    "slideshow": {
     "slide_type": "subslide"
    }
   },
   "source": [
    "### Overview\n",
    "- userInfo(with I/O)\n",
    "- commodityInfo(with I/O)\n",
    "- orderInfo(with I/O)\n",
    "\n",
    "dynamically created when `loadInfo`function is called, deleted when `exit` with the object.\n",
    "\n",
    "so that the same `infoList` will be created only once, and accessed indirectly via the _pointer_, which will transfer between classes. \n",
    "\n",
    "---\n",
    "- [ex]auctionInfo(created when `admin` **end the auction**, deleted when finished, _without_ I/O)"
   ]
  },
  {
   "cell_type": "markdown",
   "id": "edafff4a",
   "metadata": {
    "slideshow": {
     "slide_type": "subslide"
    }
   },
   "source": [
    "- userInfo \n",
    "\n",
    "```c++\n",
    "//config.h\n",
    "typedef struct userInfo\n",
    "{\n",
    "    std::string userID; // U001\n",
    "    std::string username; // no more than 10\n",
    "    std::string password; // no more than 20\n",
    "    std::string phonenumber; // no more than 40, numbers only\n",
    "    std::string address; // no more than 40,\n",
    "    float balance; // set precision 1\n",
    "    std::string userState; // activate, inactivate\n",
    "}userInfo;\n",
    "\n",
    "```"
   ]
  },
  {
   "cell_type": "markdown",
   "id": "922dd624",
   "metadata": {
    "slideshow": {
     "slide_type": "subslide"
    }
   },
   "source": [
    "```txt\n",
    "userID,username,password,phoneNumber,address,balance,userState\n",
    "U001,alice,123,123123,NJUCS,2121.0,active\n",
    "U002,bob,123,32131,NJUChem,1008.2,active\n",
    "U003,cat,123,222333,NJU502,89.3,active\n",
    "```"
   ]
  },
  {
   "cell_type": "markdown",
   "id": "56b79fe6",
   "metadata": {
    "slideshow": {
     "slide_type": "subslide"
    }
   },
   "source": [
    "- commodityInfo\n",
    "\n",
    "```c++\n",
    "//config.h\n",
    "typedef struct commodityInfo{\n",
    "    std::string commodityID;\n",
    "    std::string sellerID;\n",
    "    std::string commodityName;\n",
    "    std::string description;\n",
    "    std::string addedDate; // yyyy-mm-dd\n",
    "    std::string state; // onAuction, removed\n",
    "    float floorPrice; // 底价\n",
    "    int number;\n",
    "}commodityInfo;\n",
    "\n",
    "```"
   ]
  },
  {
   "cell_type": "markdown",
   "id": "876d60db",
   "metadata": {
    "slideshow": {
     "slide_type": "subslide"
    }
   },
   "source": [
    "```txt\n",
    "commodityID,commodityName,floorPrice,number,description,sellerID,addedDate,state\n",
    "M001,apple,100.0,0,the-only-one,U001,2022-09-13,removed\n",
    "M002,bed,9.9,0,bed,U001,2022-09-13,removed\n",
    "M003,shit,0.0,97,nothing,U001,2022-09-13,onAuction\n",
    "M004,Cat,10.1,0,the-only-cat,U003,2022-09-13,removed\n",
    "M005,computer,999.9,0,pc,U001,2022-09-13,removed\n",
    "```"
   ]
  },
  {
   "cell_type": "markdown",
   "id": "9181b13a",
   "metadata": {
    "slideshow": {
     "slide_type": "subslide"
    }
   },
   "source": [
    "\n",
    "- orderInfo\n",
    "\n",
    "```c++\n",
    "//config.h\n",
    "typedef struct orderInfo{\n",
    "    std::string orderID;\n",
    "    std::string commodityID;\n",
    "    std::string sellerID;\n",
    "    std::string buyerID;\n",
    "    std::string bidTime; //yyyy-mm-dd-hh-mm-ss\n",
    "    float bidPrice;\n",
    "    std::string state; // succeeded, failed, inProcess, cancelled\n",
    "}orderInfo;\n",
    "```\n"
   ]
  },
  {
   "cell_type": "markdown",
   "id": "24a178a2",
   "metadata": {
    "slideshow": {
     "slide_type": "subslide"
    }
   },
   "source": [
    "```txt\n",
    "userID,username,password,phoneNumber,address,balance,userState\n",
    "U001,alice,123,123123,NJUCS,2121.0,active\n",
    "U002,bob,123,32131,NJUChem,1008.2,active\n",
    "U003,cat,123,222333,NJU502,89.3,active\n",
    "```"
   ]
  },
  {
   "cell_type": "markdown",
   "id": "daf047be",
   "metadata": {
    "slideshow": {
     "slide_type": "subslide"
    }
   },
   "source": [
    "- [extra]auctionInfo\n",
    "\n",
    "a class customized to reorganize the auction data & determine to final results.\n",
    "\n",
    "> EXAMPLE\n",
    "> \n",
    "> commodityID: M001 number: 2 floorPrice: 10.0\n",
    "> - 1 buyerID: U002 bidTime: ... bidPrice: 10.1\n",
    "> - 2 buyerID: U004 bidTime: ... bidPrice: 11.1\n",
    "> - 3 buyerID: U003 bidTime: ... bidPrice: 10.0\n",
    "> - ..."
   ]
  },
  {
   "cell_type": "markdown",
   "id": "e1ce2306",
   "metadata": {
    "slideshow": {
     "slide_type": "subslide"
    }
   },
   "source": [
    "\n",
    "```c++\n",
    "//MyVector.h\n",
    "typedef struct orderNode{\n",
    "    userInfo * buyer;\n",
    "    orderInfo * order;\n",
    "}orderNode;\n",
    "\n",
    "class MyVector {\n",
    "    commodityInfo * commodity;\n",
    "    userInfo * seller;\n",
    "    int num = 0; //commodity->number\n",
    "    orderNode orderList[USERCAPACITY];\n",
    "    int idx = 0;\n",
    "public:\n",
    "    void ini(commodityInfo *_commodity, userInfo *_seller);\n",
    "    void addNode(orderInfo *_order, userInfo *_buyer);\n",
    "    void swap(int i, int j);//比较两个竞拍者的优先度\n",
    "    void rank();//给出最后的排名\n",
    "    bool timeLess(std::string &time1, std::string &time2);\n",
    "    void update();//确定succeeded和failed 处理后事\n",
    "    bool empty();\n",
    "    void clear();\n",
    "};\n",
    "\n",
    "```"
   ]
  },
  {
   "cell_type": "markdown",
   "id": "69f3bfd7",
   "metadata": {
    "slideshow": {
     "slide_type": "slide"
    }
   },
   "source": [
    "## Core functions\n",
    "> see [the source code](https://github.com/yunzinan/AP_CAP)."
   ]
  },
  {
   "cell_type": "markdown",
   "id": "081ee0f6",
   "metadata": {
    "slideshow": {
     "slide_type": "slide"
    }
   },
   "source": [
    "## Thanks"
   ]
  }
 ],
 "metadata": {
  "celltoolbar": "幻灯片",
  "kernelspec": {
   "display_name": "Python 3 (ipykernel)",
   "language": "python",
   "name": "python3"
  },
  "language_info": {
   "codemirror_mode": {
    "name": "ipython",
    "version": 3
   },
   "file_extension": ".py",
   "mimetype": "text/x-python",
   "name": "python",
   "nbconvert_exporter": "python",
   "pygments_lexer": "ipython3",
   "version": "3.9.12"
  },
  "rise": {
   "enable_chalkboard": true
  },
  "vscode": {
   "interpreter": {
    "hash": "08a05e9d7a48b83279e9fe00e047eb650eb11878563c7498b8a38e048082defa"
   }
  }
 },
 "nbformat": 4,
 "nbformat_minor": 5
}
