{
 "cells": [
  {
   "cell_type": "code",
   "execution_count": null,
   "id": "d59d8f4c",
   "metadata": {},
   "outputs": [],
   "source": []
  }
 ],
 "metadata": {
  "kernelspec": {
   "display_name": "Python 3.10.5 64-bit",
   "language": "python",
   "name": "python3"
  },
  "language_info": {
   "codemirror_mode": {
    "name": "ipython",
    "version": 3
   },
   "file_extension": ".py",
   "mimetype": "text/x-python",
   "name": "python",
   "nbconvert_exporter": "python",
   "pygments_lexer": "ipython3",
   "version": "3.10.5"
  },
  "vscode": {
   "interpreter": {
    "hash": "08a05e9d7a48b83279e9fe00e047eb650eb11878563c7498b8a38e048082defa"
   }
  }
 },
 "nbformat": 4,
 "nbformat_minor": 5
}
